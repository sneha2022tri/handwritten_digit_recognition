{
 "cells": [
  {
   "cell_type": "code",
   "execution_count": 4,
   "id": "80363aaa",
   "metadata": {},
   "outputs": [],
   "source": [
    "import tensorflow as tf\n"
   ]
  },
  {
   "cell_type": "code",
   "execution_count": 46,
   "id": "7737c934",
   "metadata": {},
   "outputs": [],
   "source": [
    "mnist=tf.keras.datasets.mnist"
   ]
  },
  {
   "cell_type": "code",
   "execution_count": 47,
   "id": "2b02360f",
   "metadata": {},
   "outputs": [],
   "source": [
    "(x_train,y_train),(x_test,y_test)=mnist.load_data()\n"
   ]
  },
  {
   "cell_type": "code",
   "execution_count": 7,
   "id": "430201a7",
   "metadata": {},
   "outputs": [
    {
     "data": {
      "text/plain": [
       "(60000, 28, 28)"
      ]
     },
     "execution_count": 7,
     "metadata": {},
     "output_type": "execute_result"
    }
   ],
   "source": [
    "x_train.shape"
   ]
  },
  {
   "cell_type": "code",
   "execution_count": 8,
   "id": "37e26a9d",
   "metadata": {},
   "outputs": [
    {
     "data": {
      "image/png": "[encoded data removed]",
      "text/plain": [
       "<Figure size 640x480 with 1 Axes>"
      ]
     },
     "metadata": {},
     "output_type": "display_data"
    },
    {
     "data": {
      "text/plain": [
       "<matplotlib.image.AxesImage at 0x18cfd510880>"
      ]
     },
     "execution_count": 8,
     "metadata": {},
     "output_type": "execute_result"
    },
    {
     "data": {
      "image/png": "[encoded data removed]",
      "text/plain": [
       "<Figure size 640x480 with 1 Axes>"
      ]
     },
     "metadata": {},
     "output_type": "display_data"
    }
   ],
   "source": [
    " import matplotlib.pyplot as plt\n",
    " plt.imshow(x_train[0])\n",
    " plt.show()\n",
    " plt.imshow(x_train[0],cmap=plt.cm.binary)"
   ]
  },
  {
   "cell_type": "code",
   "execution_count": 9,
   "id": "96189451",
   "metadata": {},
   "outputs": [
    {
     "name": "stdout",
     "output_type": "stream",
     "text": [
      "[[  0   0   0   0   0   0   0   0   0   0   0   0   0   0   0   0   0   0\n",
      "    0   0   0   0   0   0   0   0   0   0]\n",
      " [  0   0   0   0   0   0   0   0   0   0   0   0   0   0   0   0   0   0\n",
      "    0   0   0   0   0   0   0   0   0   0]\n",
      " [  0   0   0   0   0   0   0   0   0   0   0   0   0   0   0   0   0   0\n",
      "    0   0   0   0   0   0   0   0   0   0]\n",
      " [  0   0   0   0   0   0   0   0   0   0   0   0   0   0   0   0   0   0\n",
      "    0   0   0   0   0   0   0   0   0   0]\n",
      " [  0   0   0   0   0   0   0   0   0   0   0   0   0   0   0   0   0   0\n",
      "    0   0   0   0   0   0   0   0   0   0]\n",
      " [  0   0   0   0   0   0   0   0   0   0   0   0   3  18  18  18 126 136\n",
      "  175  26 166 255 247 127   0   0   0   0]\n",
      " [  0   0   0   0   0   0   0   0  30  36  94 154 170 253 253 253 253 253\n",
      "  225 172 253 242 195  64   0   0   0   0]\n",
      " [  0   0   0   0   0   0   0  49 238 253 253 253 253 253 253 253 253 251\n",
      "   93  82  82  56  39   0   0   0   0   0]\n",
      " [  0   0   0   0   0   0   0  18 219 253 253 253 253 253 198 182 247 241\n",
      "    0   0   0   0   0   0   0   0   0   0]\n",
      " [  0   0   0   0   0   0   0   0  80 156 107 253 253 205  11   0  43 154\n",
      "    0   0   0   0   0   0   0   0   0   0]\n",
      " [  0   0   0   0   0   0   0   0   0  14   1 154 253  90   0   0   0   0\n",
      "    0   0   0   0   0   0   0   0   0   0]\n",
      " [  0   0   0   0   0   0   0   0   0   0   0 139 253 190   2   0   0   0\n",
      "    0   0   0   0   0   0   0   0   0   0]\n",
      " [  0   0   0   0   0   0   0   0   0   0   0  11 190 253  70   0   0   0\n",
      "    0   0   0   0   0   0   0   0   0   0]\n",
      " [  0   0   0   0   0   0   0   0   0   0   0   0  35 241 225 160 108   1\n",
      "    0   0   0   0   0   0   0   0   0   0]\n",
      " [  0   0   0   0   0   0   0   0   0   0   0   0   0  81 240 253 253 119\n",
      "   25   0   0   0   0   0   0   0   0   0]\n",
      " [  0   0   0   0   0   0   0   0   0   0   0   0   0   0  45 186 253 253\n",
      "  150  27   0   0   0   0   0   0   0   0]\n",
      " [  0   0   0   0   0   0   0   0   0   0   0   0   0   0   0  16  93 252\n",
      "  253 187   0   0   0   0   0   0   0   0]\n",
      " [  0   0   0   0   0   0   0   0   0   0   0   0   0   0   0   0   0 249\n",
      "  253 249  64   0   0   0   0   0   0   0]\n",
      " [  0   0   0   0   0   0   0   0   0   0   0   0   0   0  46 130 183 253\n",
      "  253 207   2   0   0   0   0   0   0   0]\n",
      " [  0   0   0   0   0   0   0   0   0   0   0   0  39 148 229 253 253 253\n",
      "  250 182   0   0   0   0   0   0   0   0]\n",
      " [  0   0   0   0   0   0   0   0   0   0  24 114 221 253 253 253 253 201\n",
      "   78   0   0   0   0   0   0   0   0   0]\n",
      " [  0   0   0   0   0   0   0   0  23  66 213 253 253 253 253 198  81   2\n",
      "    0   0   0   0   0   0   0   0   0   0]\n",
      " [  0   0   0   0   0   0  18 171 219 253 253 253 253 195  80   9   0   0\n",
      "    0   0   0   0   0   0   0   0   0   0]\n",
      " [  0   0   0   0  55 172 226 253 253 253 253 244 133  11   0   0   0   0\n",
      "    0   0   0   0   0   0   0   0   0   0]\n",
      " [  0   0   0   0 136 253 253 253 212 135 132  16   0   0   0   0   0   0\n",
      "    0   0   0   0   0   0   0   0   0   0]\n",
      " [  0   0   0   0   0   0   0   0   0   0   0   0   0   0   0   0   0   0\n",
      "    0   0   0   0   0   0   0   0   0   0]\n",
      " [  0   0   0   0   0   0   0   0   0   0   0   0   0   0   0   0   0   0\n",
      "    0   0   0   0   0   0   0   0   0   0]\n",
      " [  0   0   0   0   0   0   0   0   0   0   0   0   0   0   0   0   0   0\n",
      "    0   0   0   0   0   0   0   0   0   0]]\n"
     ]
    }
   ],
   "source": [
    "print(x_train[0])"
   ]
  },
  {
   "cell_type": "code",
   "execution_count": 10,
   "id": "88b0127f",
   "metadata": {},
   "outputs": [
    {
     "data": {
      "text/plain": [
       "<matplotlib.image.AxesImage at 0x18cf8bacee0>"
      ]
     },
     "execution_count": 10,
     "metadata": {},
     "output_type": "execute_result"
    },
    {
     "data": {
      "image/png": "[encoded data removed]",
      "text/plain": [
       "<Figure size 640x480 with 1 Axes>"
      ]
     },
     "metadata": {},
     "output_type": "display_data"
    }
   ],
   "source": [
    "x_train=tf.keras.utils.normalize(x_train,axis=1)\n",
    "x_test=tf.keras.utils.normalize(x_test,axis=1)\n",
    "plt.imshow(x_train[0],cmap=plt.cm.binary)"
   ]
  },
  {
   "cell_type": "code",
   "execution_count": 11,
   "id": "bced8afe",
   "metadata": {},
   "outputs": [
    {
     "name": "stdout",
     "output_type": "stream",
     "text": [
      "[[0.         0.         0.         0.         0.         0.\n",
      "  0.         0.         0.         0.         0.         0.\n",
      "  0.         0.         0.         0.         0.         0.\n",
      "  0.         0.         0.         0.         0.         0.\n",
      "  0.         0.         0.         0.        ]\n",
      " [0.         0.         0.         0.         0.         0.\n",
      "  0.         0.         0.         0.         0.         0.\n",
      "  0.         0.         0.         0.         0.         0.\n",
      "  0.         0.         0.         0.         0.         0.\n",
      "  0.         0.         0.         0.        ]\n",
      " [0.         0.         0.         0.         0.         0.\n",
      "  0.         0.         0.         0.         0.         0.\n",
      "  0.         0.         0.         0.         0.         0.\n",
      "  0.         0.         0.         0.         0.         0.\n",
      "  0.         0.         0.         0.        ]\n",
      " [0.         0.         0.         0.         0.         0.\n",
      "  0.         0.         0.         0.         0.         0.\n",
      "  0.         0.         0.         0.         0.         0.\n",
      "  0.         0.         0.         0.         0.         0.\n",
      "  0.         0.         0.         0.        ]\n",
      " [0.         0.         0.         0.         0.         0.\n",
      "  0.         0.         0.         0.         0.         0.\n",
      "  0.         0.         0.         0.         0.         0.\n",
      "  0.         0.         0.         0.         0.         0.\n",
      "  0.         0.         0.         0.        ]\n",
      " [0.         0.         0.         0.         0.         0.\n",
      "  0.         0.         0.         0.         0.         0.\n",
      "  0.00393124 0.02332955 0.02620568 0.02625207 0.17420356 0.17566281\n",
      "  0.28629534 0.05664824 0.51877786 0.71632322 0.77892406 0.89301644\n",
      "  0.         0.         0.         0.        ]\n",
      " [0.         0.         0.         0.         0.         0.\n",
      "  0.         0.         0.05780486 0.06524513 0.16128198 0.22713296\n",
      "  0.22277047 0.32790981 0.36833534 0.3689874  0.34978968 0.32678448\n",
      "  0.368094   0.3747499  0.79066747 0.67980478 0.61494005 0.45002403\n",
      "  0.         0.         0.         0.        ]\n",
      " [0.         0.         0.         0.         0.         0.\n",
      "  0.         0.12250613 0.45858525 0.45852825 0.43408872 0.37314701\n",
      "  0.33153488 0.32790981 0.36833534 0.3689874  0.34978968 0.32420121\n",
      "  0.15214552 0.17865984 0.25626376 0.1573102  0.12298801 0.\n",
      "  0.         0.         0.         0.        ]\n",
      " [0.         0.         0.         0.         0.         0.\n",
      "  0.         0.04500225 0.4219755  0.45852825 0.43408872 0.37314701\n",
      "  0.33153488 0.32790981 0.28826244 0.26543758 0.34149427 0.31128482\n",
      "  0.         0.         0.         0.         0.         0.\n",
      "  0.         0.         0.         0.        ]\n",
      " [0.         0.         0.         0.         0.         0.\n",
      "  0.         0.         0.1541463  0.28272888 0.18358693 0.37314701\n",
      "  0.33153488 0.26569767 0.01601458 0.         0.05945042 0.19891229\n",
      "  0.         0.         0.         0.         0.         0.\n",
      "  0.         0.         0.         0.        ]\n",
      " [0.         0.         0.         0.         0.         0.\n",
      "  0.         0.         0.         0.0253731  0.00171577 0.22713296\n",
      "  0.33153488 0.11664776 0.         0.         0.         0.\n",
      "  0.         0.         0.         0.         0.         0.\n",
      "  0.         0.         0.         0.        ]\n",
      " [0.         0.         0.         0.         0.         0.\n",
      "  0.         0.         0.         0.         0.         0.20500962\n",
      "  0.33153488 0.24625638 0.00291174 0.         0.         0.\n",
      "  0.         0.         0.         0.         0.         0.\n",
      "  0.         0.         0.         0.        ]\n",
      " [0.         0.         0.         0.         0.         0.\n",
      "  0.         0.         0.         0.         0.         0.01622378\n",
      "  0.24897876 0.32790981 0.10191096 0.         0.         0.\n",
      "  0.         0.         0.         0.         0.         0.\n",
      "  0.         0.         0.         0.        ]\n",
      " [0.         0.         0.         0.         0.         0.\n",
      "  0.         0.         0.         0.         0.         0.\n",
      "  0.04586451 0.31235677 0.32757096 0.23335172 0.14931733 0.00129164\n",
      "  0.         0.         0.         0.         0.         0.\n",
      "  0.         0.         0.         0.        ]\n",
      " [0.         0.         0.         0.         0.         0.\n",
      "  0.         0.         0.         0.         0.         0.\n",
      "  0.         0.10498298 0.34940902 0.3689874  0.34978968 0.15370495\n",
      "  0.04089933 0.         0.         0.         0.         0.\n",
      "  0.         0.         0.         0.        ]\n",
      " [0.         0.         0.         0.         0.         0.\n",
      "  0.         0.         0.         0.         0.         0.\n",
      "  0.         0.         0.06551419 0.27127137 0.34978968 0.32678448\n",
      "  0.245396   0.05882702 0.         0.         0.         0.\n",
      "  0.         0.         0.         0.        ]\n",
      " [0.         0.         0.         0.         0.         0.\n",
      "  0.         0.         0.         0.         0.         0.\n",
      "  0.         0.         0.         0.02333517 0.12857881 0.32549285\n",
      "  0.41390126 0.40743158 0.         0.         0.         0.\n",
      "  0.         0.         0.         0.        ]\n",
      " [0.         0.         0.         0.         0.         0.\n",
      "  0.         0.         0.         0.         0.         0.\n",
      "  0.         0.         0.         0.         0.         0.32161793\n",
      "  0.41390126 0.54251585 0.20001074 0.         0.         0.\n",
      "  0.         0.         0.         0.        ]\n",
      " [0.         0.         0.         0.         0.         0.\n",
      "  0.         0.         0.         0.         0.         0.\n",
      "  0.         0.         0.06697006 0.18959827 0.25300993 0.32678448\n",
      "  0.41390126 0.45100715 0.00625034 0.         0.         0.\n",
      "  0.         0.         0.         0.        ]\n",
      " [0.         0.         0.         0.         0.         0.\n",
      "  0.         0.         0.         0.         0.         0.\n",
      "  0.05110617 0.19182076 0.33339444 0.3689874  0.34978968 0.32678448\n",
      "  0.40899334 0.39653769 0.         0.         0.         0.\n",
      "  0.         0.         0.         0.        ]\n",
      " [0.         0.         0.         0.         0.         0.\n",
      "  0.         0.         0.         0.         0.04117838 0.16813739\n",
      "  0.28960162 0.32790981 0.36833534 0.3689874  0.34978968 0.25961929\n",
      "  0.12760592 0.         0.         0.         0.         0.\n",
      "  0.         0.         0.         0.        ]\n",
      " [0.         0.         0.         0.         0.         0.\n",
      "  0.         0.         0.04431706 0.11961607 0.36545809 0.37314701\n",
      "  0.33153488 0.32790981 0.36833534 0.28877275 0.111988   0.00258328\n",
      "  0.         0.         0.         0.         0.         0.\n",
      "  0.         0.         0.         0.        ]\n",
      " [0.         0.         0.         0.         0.         0.\n",
      "  0.05298497 0.42752138 0.4219755  0.45852825 0.43408872 0.37314701\n",
      "  0.33153488 0.25273681 0.11646967 0.01312603 0.         0.\n",
      "  0.         0.         0.         0.         0.         0.\n",
      "  0.         0.         0.         0.        ]\n",
      " [0.         0.         0.         0.         0.37491383 0.56222061\n",
      "  0.66525569 0.63253163 0.48748768 0.45852825 0.43408872 0.359873\n",
      "  0.17428513 0.01425695 0.         0.         0.         0.\n",
      "  0.         0.         0.         0.         0.         0.\n",
      "  0.         0.         0.         0.        ]\n",
      " [0.         0.         0.         0.         0.92705966 0.82698729\n",
      "  0.74473314 0.63253163 0.4084877  0.24466922 0.22648107 0.02359823\n",
      "  0.         0.         0.         0.         0.         0.\n",
      "  0.         0.         0.         0.         0.         0.\n",
      "  0.         0.         0.         0.        ]\n",
      " [0.         0.         0.         0.         0.         0.\n",
      "  0.         0.         0.         0.         0.         0.\n",
      "  0.         0.         0.         0.         0.         0.\n",
      "  0.         0.         0.         0.         0.         0.\n",
      "  0.         0.         0.         0.        ]\n",
      " [0.         0.         0.         0.         0.         0.\n",
      "  0.         0.         0.         0.         0.         0.\n",
      "  0.         0.         0.         0.         0.         0.\n",
      "  0.         0.         0.         0.         0.         0.\n",
      "  0.         0.         0.         0.        ]\n",
      " [0.         0.         0.         0.         0.         0.\n",
      "  0.         0.         0.         0.         0.         0.\n",
      "  0.         0.         0.         0.         0.         0.\n",
      "  0.         0.         0.         0.         0.         0.\n",
      "  0.         0.         0.         0.        ]]\n"
     ]
    }
   ],
   "source": [
    "print(x_train[0])"
   ]
  },
  {
   "cell_type": "code",
   "execution_count": 12,
   "id": "f0285a87",
   "metadata": {},
   "outputs": [
    {
     "name": "stdout",
     "output_type": "stream",
     "text": [
      "5\n"
     ]
    }
   ],
   "source": [
    "print(y_train[0])"
   ]
  },
  {
   "cell_type": "code",
   "execution_count": 13,
   "id": "0bdd1ea4",
   "metadata": {},
   "outputs": [
    {
     "name": "stdout",
     "output_type": "stream",
     "text": [
      "training sample dimension (60000, 28, 28, 1)\n",
      "testing sample dimension (10000, 28, 28, 1)\n"
     ]
    }
   ],
   "source": [
    "import numpy as np\n",
    "IMG_SIZE=28\n",
    "x_trainr=np.array(x_train).reshape(-1,IMG_SIZE,IMG_SIZE,1)\n",
    "x_testr=np.array(x_test).reshape(-1,IMG_SIZE,IMG_SIZE,1)\n",
    "print(\"training sample dimension\",x_trainr.shape)\n",
    "print(\"testing sample dimension\",x_testr.shape)"
   ]
  },
  {
   "cell_type": "code",
   "execution_count": 14,
   "id": "052fb4c9",
   "metadata": {},
   "outputs": [],
   "source": [
    "from tensorflow.keras.models import Sequential\n",
    "from tensorflow.keras.layers import Dense , Dropout,Activation,Flatten,Conv2D,MaxPooling2D"
   ]
  },
  {
   "cell_type": "code",
   "execution_count": 15,
   "id": "b5901712",
   "metadata": {},
   "outputs": [],
   "source": [
    "model=Sequential()\n",
    "model.add(Conv2D(64,(3,3),input_shape=x_trainr.shape[1:]))\n",
    "model.add(Activation(\"relu\"))\n",
    "model.add(MaxPooling2D(pool_size=(2,2)))\n",
    "\n",
    "\n",
    "model.add(Conv2D(64,(3,3)))\n",
    "model.add(Activation(\"relu\"))\n",
    "model.add(MaxPooling2D(pool_size=(2,2)))\n",
    "\n",
    "    \n",
    "\n",
    "model.add(Conv2D(64,(3,3)))\n",
    "model.add(Activation(\"relu\"))\n",
    "model.add(MaxPooling2D(pool_size=(2,2)))\n",
    "          \n",
    "model.add(Flatten())\n",
    "model.add(Dense(64))\n",
    "model.add(Activation(\"relu\"))\n",
    "          \n",
    "          \n",
    "          \n",
    "model.add(Dense(32))\n",
    "model.add(Activation(\"relu\"))\n",
    "          \n",
    "model.add(Dense(10))\n",
    "model.add(Activation('softmax'))\n",
    "          \n",
    "          \n",
    "          \n",
    "\n",
    "\n",
    "          \n",
    "          \n",
    "\n",
    "\n",
    "          \n",
    "\n"
   ]
  },
  {
   "cell_type": "code",
   "execution_count": 16,
   "id": "7e15a0f9",
   "metadata": {},
   "outputs": [
    {
     "name": "stdout",
     "output_type": "stream",
     "text": [
      "Model: \"sequential\"\n",
      "_________________________________________________________________\n",
      " Layer (type)                Output Shape              Param #   \n",
      "=================================================================\n",
      " conv2d (Conv2D)             (None, 26, 26, 64)        640       \n",
      "                                                                 \n",
      " activation (Activation)     (None, 26, 26, 64)        0         \n",
      "                                                                 \n",
      " max_pooling2d (MaxPooling2D  (None, 13, 13, 64)       0         \n",
      " )                                                               \n",
      "                                                                 \n",
      " conv2d_1 (Conv2D)           (None, 11, 11, 64)        36928     \n",
      "                                                                 \n",
      " activation_1 (Activation)   (None, 11, 11, 64)        0         \n",
      "                                                                 \n",
      " max_pooling2d_1 (MaxPooling  (None, 5, 5, 64)         0         \n",
      " 2D)                                                             \n",
      "                                                                 \n",
      " conv2d_2 (Conv2D)           (None, 3, 3, 64)          36928     \n",
      "                                                                 \n",
      " activation_2 (Activation)   (None, 3, 3, 64)          0         \n",
      "                                                                 \n",
      " max_pooling2d_2 (MaxPooling  (None, 1, 1, 64)         0         \n",
      " 2D)                                                             \n",
      "                                                                 \n",
      " flatten (Flatten)           (None, 64)                0         \n",
      "                                                                 \n",
      " dense (Dense)               (None, 64)                4160      \n",
      "                                                                 \n",
      " activation_3 (Activation)   (None, 64)                0         \n",
      "                                                                 \n",
      " dense_1 (Dense)             (None, 32)                2080      \n",
      "                                                                 \n",
      " activation_4 (Activation)   (None, 32)                0         \n",
      "                                                                 \n",
      " dense_2 (Dense)             (None, 10)                330       \n",
      "                                                                 \n",
      " activation_5 (Activation)   (None, 10)                0         \n",
      "                                                                 \n",
      "=================================================================\n",
      "Total params: 81,066\n",
      "Trainable params: 81,066\n",
      "Non-trainable params: 0\n",
      "_________________________________________________________________\n"
     ]
    }
   ],
   "source": [
    "model.summary()"
   ]
  },
  {
   "cell_type": "code",
   "execution_count": 17,
   "id": "5cb2dbe1",
   "metadata": {},
   "outputs": [
    {
     "name": "stdout",
     "output_type": "stream",
     "text": [
      "Total training samples=  60000\n"
     ]
    }
   ],
   "source": [
    "print(\"Total training samples= \",len(x_trainr))\n"
   ]
  },
  {
   "cell_type": "code",
   "execution_count": 18,
   "id": "207d481e",
   "metadata": {},
   "outputs": [],
   "source": [
    "model.compile(loss=\"sparse_categorical_crossentropy\",optimizer=\"adam\",metrics=['accuracy'])\n"
   ]
  },
  {
   "cell_type": "code",
   "execution_count": null,
   "id": "25b0a4bd",
   "metadata": {},
   "outputs": [],
   "source": []
  },
  {
   "cell_type": "code",
   "execution_count": 19,
   "id": "0dd25375",
   "metadata": {},
   "outputs": [
    {
     "name": "stdout",
     "output_type": "stream",
     "text": [
      "Epoch 1/5\n",
      "1313/1313 [==============================] - 43s 33ms/step - loss: 0.3482 - accuracy: 0.8907 - val_loss: 0.1262 - val_accuracy: 0.9606\n",
      "Epoch 2/5\n",
      "1313/1313 [==============================] - 44s 34ms/step - loss: 0.1107 - accuracy: 0.9657 - val_loss: 0.1030 - val_accuracy: 0.9681\n",
      "Epoch 3/5\n",
      "1313/1313 [==============================] - 39s 30ms/step - loss: 0.0785 - accuracy: 0.9760 - val_loss: 0.0768 - val_accuracy: 0.9764\n",
      "Epoch 4/5\n",
      "1313/1313 [==============================] - 38s 29ms/step - loss: 0.0605 - accuracy: 0.9813 - val_loss: 0.0685 - val_accuracy: 0.9789\n",
      "Epoch 5/5\n",
      "1313/1313 [==============================] - 39s 30ms/step - loss: 0.0498 - accuracy: 0.9844 - val_loss: 0.0631 - val_accuracy: 0.9816\n"
     ]
    },
    {
     "data": {
      "text/plain": [
       "<keras.callbacks.History at 0x18cf8daefd0>"
      ]
     },
     "execution_count": 19,
     "metadata": {},
     "output_type": "execute_result"
    }
   ],
   "source": [
    "model.fit(x_trainr, y_train,epochs=5, validation_split=0.3)"
   ]
  },
  {
   "cell_type": "code",
   "execution_count": 20,
   "id": "e23b7cb7",
   "metadata": {},
   "outputs": [
    {
     "name": "stdout",
     "output_type": "stream",
     "text": [
      "313/313 [==============================] - 2s 8ms/step - loss: 0.0571 - accuracy: 0.9830\n",
      "total loss on 10000 test samples 0.05713051185011864\n",
      "validation accuracy on 10000 test samples 0.9829999804496765\n"
     ]
    }
   ],
   "source": [
    "test_loss,test_acc=model.evaluate(x_testr,y_test)\n",
    "print(\"total loss on 10000 test samples\",test_loss)\n",
    "print(\"validation accuracy on 10000 test samples\",test_acc)"
   ]
  },
  {
   "cell_type": "code",
   "execution_count": 21,
   "id": "f5cca331",
   "metadata": {},
   "outputs": [
    {
     "name": "stdout",
     "output_type": "stream",
     "text": [
      "313/313 [==============================] - 2s 7ms/step\n"
     ]
    }
   ],
   "source": [
    "predicions=model.predict([x_testr])\n"
   ]
  },
  {
   "cell_type": "code",
   "execution_count": 22,
   "id": "bf6f1312",
   "metadata": {},
   "outputs": [
    {
     "name": "stdout",
     "output_type": "stream",
     "text": [
      "[[5.49483843e-07 1.08785500e-07 3.87077807e-06 ... 9.99992490e-01\n",
      "  3.87374293e-08 1.52944915e-06]\n",
      " [2.99725070e-04 3.60898593e-05 9.99577820e-01 ... 3.77734523e-06\n",
      "  6.58448844e-05 1.85716729e-07]\n",
      " [6.53779608e-08 9.99996901e-01 2.87161754e-07 ... 6.66991355e-07\n",
      "  9.10325468e-08 8.06882170e-08]\n",
      " ...\n",
      " [1.08074005e-07 1.57425305e-07 4.20797086e-08 ... 3.10442351e-06\n",
      "  4.12827944e-07 2.25500389e-06]\n",
      " [1.66543103e-07 3.50512082e-08 5.85897325e-13 ... 1.56596347e-09\n",
      "  5.74084879e-07 6.15723991e-07]\n",
      " [5.69001641e-05 1.72658368e-08 7.70665679e-07 ... 3.06148067e-08\n",
      "  6.43012936e-06 6.06607784e-07]]\n"
     ]
    }
   ],
   "source": [
    "print(predicions)"
   ]
  },
  {
   "cell_type": "code",
   "execution_count": 23,
   "id": "466a4285",
   "metadata": {},
   "outputs": [
    {
     "name": "stdout",
     "output_type": "stream",
     "text": [
      "7\n"
     ]
    }
   ],
   "source": [
    "print(np.argmax(predicions[0]))"
   ]
  },
  {
   "cell_type": "code",
   "execution_count": 24,
   "id": "eead8039",
   "metadata": {},
   "outputs": [
    {
     "data": {
      "text/plain": [
       "<matplotlib.image.AxesImage at 0x18cfb1d6c40>"
      ]
     },
     "execution_count": 24,
     "metadata": {},
     "output_type": "execute_result"
    },
    {
     "data": {
      "image/png": "[encoded data removed]",
      "text/plain": [
       "<Figure size 640x480 with 1 Axes>"
      ]
     },
     "metadata": {},
     "output_type": "display_data"
    }
   ],
   "source": [
    "plt.imshow(x_test[0])"
   ]
  },
  {
   "cell_type": "code",
   "execution_count": 25,
   "id": "816cece9",
   "metadata": {},
   "outputs": [
    {
     "name": "stdout",
     "output_type": "stream",
     "text": [
      "8\n"
     ]
    }
   ],
   "source": [
    "print(np.argmax(predicions[128]))"
   ]
  },
  {
   "cell_type": "code",
   "execution_count": 26,
   "id": "5a6ef928",
   "metadata": {},
   "outputs": [
    {
     "data": {
      "text/plain": [
       "<matplotlib.image.AxesImage at 0x18cfb259490>"
      ]
     },
     "execution_count": 26,
     "metadata": {},
     "output_type": "execute_result"
    },
    {
     "data": {
      "image/png": "[encoded data removed]",
      "text/plain": [
       "<Figure size 640x480 with 1 Axes>"
      ]
     },
     "metadata": {},
     "output_type": "display_data"
    }
   ],
   "source": [
    "plt.imshow(x_test[128])"
   ]
  },
  {
   "cell_type": "code",
   "execution_count": 27,
   "id": "95c34b9f",
   "metadata": {},
   "outputs": [],
   "source": [
    "import cv2"
   ]
  },
  {
   "cell_type": "code",
   "execution_count": 28,
   "id": "d47c1e63",
   "metadata": {},
   "outputs": [],
   "source": [
    "img=cv2.imread('eight.png')"
   ]
  },
  {
   "cell_type": "code",
   "execution_count": 29,
   "id": "73eaaf78",
   "metadata": {},
   "outputs": [
    {
     "data": {
      "text/plain": [
       "<matplotlib.image.AxesImage at 0x18cfb272b20>"
      ]
     },
     "execution_count": 29,
     "metadata": {},
     "output_type": "execute_result"
    },
    {
     "data": {
      "image/png": "[encoded data removed]",
      "text/plain": [
       "<Figure size 640x480 with 1 Axes>"
      ]
     },
     "metadata": {},
     "output_type": "display_data"
    }
   ],
   "source": [
    "plt.imshow(img)"
   ]
  },
  {
   "cell_type": "code",
   "execution_count": 30,
   "id": "4509a521",
   "metadata": {},
   "outputs": [
    {
     "data": {
      "text/plain": [
       "(2104, 2808, 3)"
      ]
     },
     "execution_count": 30,
     "metadata": {},
     "output_type": "execute_result"
    }
   ],
   "source": [
    "img.shape"
   ]
  },
  {
   "cell_type": "code",
   "execution_count": 31,
   "id": "db857bcd",
   "metadata": {},
   "outputs": [],
   "source": [
    "gray=cv2.cvtColor(img,cv2.COLOR_BGR2GRAY)"
   ]
  },
  {
   "cell_type": "code",
   "execution_count": 32,
   "id": "25739ab9",
   "metadata": {},
   "outputs": [],
   "source": [
    "resized=cv2.resize(gray, (28,28),interpolation=cv2.INTER_AREA)"
   ]
  },
  {
   "cell_type": "code",
   "execution_count": 33,
   "id": "ef352095",
   "metadata": {},
   "outputs": [
    {
     "data": {
      "text/plain": [
       "(28, 28)"
      ]
     },
     "execution_count": 33,
     "metadata": {},
     "output_type": "execute_result"
    }
   ],
   "source": [
    "resized.shape"
   ]
  },
  {
   "cell_type": "code",
   "execution_count": 34,
   "id": "fdfe8c54",
   "metadata": {},
   "outputs": [],
   "source": [
    "newing=tf.keras.utils.normalize(resized,axis=1)"
   ]
  },
  {
   "cell_type": "code",
   "execution_count": 35,
   "id": "68fd46b2",
   "metadata": {},
   "outputs": [],
   "source": [
    "newing=np.array(newing).reshape(-1,IMG_SIZE,IMG_SIZE,1)"
   ]
  },
  {
   "cell_type": "code",
   "execution_count": 36,
   "id": "2f0ec511",
   "metadata": {},
   "outputs": [
    {
     "data": {
      "text/plain": [
       "(1, 28, 28, 1)"
      ]
     },
     "execution_count": 36,
     "metadata": {},
     "output_type": "execute_result"
    }
   ],
   "source": [
    "newing.shape"
   ]
  },
  {
   "cell_type": "code",
   "execution_count": 37,
   "id": "30ad64b7",
   "metadata": {},
   "outputs": [
    {
     "name": "stdout",
     "output_type": "stream",
     "text": [
      "1/1 [==============================] - 0s 79ms/step\n"
     ]
    }
   ],
   "source": [
    "predicions=model.predict(newing)"
   ]
  },
  {
   "cell_type": "code",
   "execution_count": 38,
   "id": "e6d88b9c",
   "metadata": {},
   "outputs": [
    {
     "name": "stdout",
     "output_type": "stream",
     "text": [
      "0\n"
     ]
    }
   ],
   "source": [
    "print(np.argmax(predicions))"
   ]
  },
  {
   "cell_type": "code",
   "execution_count": 48,
   "id": "4557908d",
   "metadata": {},
   "outputs": [
    {
     "name": "stdout",
     "output_type": "stream",
     "text": [
      "1/1 [==============================] - 0s 48ms/step\n",
      "0\n",
      "<class 'numpy.int64'>\n",
      "1/1 [==============================] - 0s 46ms/step\n",
      "0\n",
      "<class 'numpy.int64'>\n",
      "1/1 [==============================] - 0s 47ms/step\n",
      "0\n",
      "<class 'numpy.int64'>\n",
      "1/1 [==============================] - 0s 44ms/step\n",
      "0\n",
      "<class 'numpy.int64'>\n",
      "1/1 [==============================] - 0s 46ms/step\n",
      "0\n",
      "<class 'numpy.int64'>\n",
      "1/1 [==============================] - 0s 46ms/step\n",
      "0\n",
      "<class 'numpy.int64'>\n",
      "1/1 [==============================] - 0s 45ms/step\n",
      "0\n",
      "<class 'numpy.int64'>\n",
      "1/1 [==============================] - 0s 50ms/step\n",
      "0\n",
      "<class 'numpy.int64'>\n",
      "1/1 [==============================] - 0s 53ms/step\n",
      "0\n",
      "<class 'numpy.int64'>\n",
      "1/1 [==============================] - 0s 72ms/step\n",
      "0\n",
      "<class 'numpy.int64'>\n",
      "1/1 [==============================] - 0s 49ms/step\n",
      "0\n",
      "<class 'numpy.int64'>\n",
      "1/1 [==============================] - 0s 52ms/step\n",
      "0\n",
      "<class 'numpy.int64'>\n",
      "1/1 [==============================] - 0s 72ms/step\n",
      "0\n",
      "<class 'numpy.int64'>\n",
      "1/1 [==============================] - 0s 64ms/step\n",
      "0\n",
      "<class 'numpy.int64'>\n",
      "1/1 [==============================] - 0s 65ms/step\n",
      "0\n",
      "<class 'numpy.int64'>\n",
      "1/1 [==============================] - 0s 59ms/step\n",
      "0\n",
      "<class 'numpy.int64'>\n",
      "1/1 [==============================] - 0s 41ms/step\n",
      "0\n",
      "<class 'numpy.int64'>\n",
      "1/1 [==============================] - 0s 51ms/step\n",
      "0\n",
      "<class 'numpy.int64'>\n",
      "1/1 [==============================] - 0s 54ms/step\n",
      "0\n",
      "<class 'numpy.int64'>\n",
      "1/1 [==============================] - 0s 53ms/step\n",
      "0\n",
      "<class 'numpy.int64'>\n",
      "1/1 [==============================] - 0s 33ms/step\n",
      "0\n",
      "<class 'numpy.int64'>\n",
      "1/1 [==============================] - 0s 48ms/step\n",
      "0\n",
      "<class 'numpy.int64'>\n",
      "1/1 [==============================] - 0s 57ms/step\n",
      "0\n",
      "<class 'numpy.int64'>\n",
      "1/1 [==============================] - 0s 46ms/step\n",
      "0\n",
      "<class 'numpy.int64'>\n",
      "1/1 [==============================] - 0s 52ms/step\n",
      "0\n",
      "<class 'numpy.int64'>\n",
      "1/1 [==============================] - 0s 45ms/step\n",
      "0\n",
      "<class 'numpy.int64'>\n",
      "1/1 [==============================] - 0s 52ms/step\n",
      "0\n",
      "<class 'numpy.int64'>\n",
      "1/1 [==============================] - 0s 59ms/step\n",
      "0\n",
      "<class 'numpy.int64'>\n",
      "1/1 [==============================] - 0s 50ms/step\n",
      "0\n",
      "<class 'numpy.int64'>\n",
      "1/1 [==============================] - 0s 44ms/step\n",
      "0\n",
      "<class 'numpy.int64'>\n",
      "1/1 [==============================] - 0s 50ms/step\n",
      "0\n",
      "<class 'numpy.int64'>\n",
      "1/1 [==============================] - 0s 47ms/step\n",
      "0\n",
      "<class 'numpy.int64'>\n",
      "1/1 [==============================] - 0s 47ms/step\n",
      "0\n",
      "<class 'numpy.int64'>\n",
      "1/1 [==============================] - 0s 36ms/step\n",
      "0\n",
      "<class 'numpy.int64'>\n",
      "1/1 [==============================] - 0s 36ms/step\n",
      "0\n",
      "<class 'numpy.int64'>\n",
      "1/1 [==============================] - 0s 50ms/step\n",
      "0\n",
      "<class 'numpy.int64'>\n",
      "1/1 [==============================] - 0s 44ms/step\n",
      "0\n",
      "<class 'numpy.int64'>\n",
      "1/1 [==============================] - 0s 47ms/step\n",
      "0\n",
      "<class 'numpy.int64'>\n",
      "1/1 [==============================] - 0s 47ms/step\n",
      "0\n",
      "<class 'numpy.int64'>\n",
      "1/1 [==============================] - 0s 40ms/step\n",
      "0\n",
      "<class 'numpy.int64'>\n",
      "1/1 [==============================] - 0s 46ms/step\n",
      "0\n",
      "<class 'numpy.int64'>\n",
      "1/1 [==============================] - 0s 38ms/step\n",
      "0\n",
      "<class 'numpy.int64'>\n",
      "1/1 [==============================] - 0s 34ms/step\n",
      "0\n",
      "<class 'numpy.int64'>\n",
      "1/1 [==============================] - 0s 36ms/step\n",
      "0\n",
      "<class 'numpy.int64'>\n",
      "1/1 [==============================] - 0s 36ms/step\n",
      "0\n",
      "<class 'numpy.int64'>\n",
      "1/1 [==============================] - 0s 37ms/step\n",
      "0\n",
      "<class 'numpy.int64'>\n",
      "1/1 [==============================] - 0s 44ms/step\n",
      "0\n",
      "<class 'numpy.int64'>\n",
      "1/1 [==============================] - 0s 34ms/step\n",
      "0\n",
      "<class 'numpy.int64'>\n",
      "1/1 [==============================] - 0s 44ms/step\n",
      "0\n",
      "<class 'numpy.int64'>\n",
      "1/1 [==============================] - 0s 34ms/step\n",
      "0\n",
      "<class 'numpy.int64'>\n",
      "1/1 [==============================] - 0s 38ms/step\n",
      "0\n",
      "<class 'numpy.int64'>\n",
      "1/1 [==============================] - 0s 46ms/step\n",
      "0\n",
      "<class 'numpy.int64'>\n",
      "1/1 [==============================] - 0s 48ms/step\n",
      "0\n",
      "<class 'numpy.int64'>\n",
      "1/1 [==============================] - 0s 43ms/step\n",
      "0\n",
      "<class 'numpy.int64'>\n",
      "1/1 [==============================] - 0s 37ms/step\n",
      "0\n",
      "<class 'numpy.int64'>\n",
      "1/1 [==============================] - 0s 52ms/step\n",
      "0\n",
      "<class 'numpy.int64'>\n",
      "1/1 [==============================] - 0s 49ms/step\n",
      "0\n",
      "<class 'numpy.int64'>\n",
      "1/1 [==============================] - 0s 47ms/step\n",
      "0\n",
      "<class 'numpy.int64'>\n",
      "1/1 [==============================] - 0s 46ms/step\n",
      "0\n",
      "<class 'numpy.int64'>\n",
      "1/1 [==============================] - 0s 31ms/step\n",
      "0\n",
      "<class 'numpy.int64'>\n",
      "1/1 [==============================] - 0s 34ms/step\n",
      "0\n",
      "<class 'numpy.int64'>\n",
      "1/1 [==============================] - 0s 35ms/step\n",
      "0\n",
      "<class 'numpy.int64'>\n",
      "1/1 [==============================] - 0s 36ms/step\n",
      "0\n",
      "<class 'numpy.int64'>\n",
      "1/1 [==============================] - 0s 35ms/step\n",
      "0\n",
      "<class 'numpy.int64'>\n",
      "1/1 [==============================] - 0s 32ms/step\n",
      "0\n",
      "<class 'numpy.int64'>\n",
      "1/1 [==============================] - 0s 35ms/step\n",
      "0\n",
      "<class 'numpy.int64'>\n",
      "1/1 [==============================] - 0s 36ms/step\n",
      "0\n",
      "<class 'numpy.int64'>\n",
      "1/1 [==============================] - 0s 44ms/step\n",
      "0\n",
      "<class 'numpy.int64'>\n",
      "1/1 [==============================] - 0s 46ms/step\n",
      "0\n",
      "<class 'numpy.int64'>\n",
      "1/1 [==============================] - 0s 34ms/step\n",
      "0\n",
      "<class 'numpy.int64'>\n",
      "1/1 [==============================] - 0s 43ms/step\n",
      "0\n",
      "<class 'numpy.int64'>\n",
      "1/1 [==============================] - 0s 37ms/step\n",
      "0\n",
      "<class 'numpy.int64'>\n",
      "1/1 [==============================] - 0s 38ms/step\n",
      "0\n",
      "<class 'numpy.int64'>\n",
      "1/1 [==============================] - 0s 34ms/step\n",
      "0\n",
      "<class 'numpy.int64'>\n",
      "1/1 [==============================] - 0s 36ms/step\n",
      "0\n",
      "<class 'numpy.int64'>\n",
      "1/1 [==============================] - 0s 51ms/step\n",
      "0\n",
      "<class 'numpy.int64'>\n",
      "1/1 [==============================] - 0s 46ms/step\n",
      "0\n",
      "<class 'numpy.int64'>\n",
      "1/1 [==============================] - 0s 32ms/step\n",
      "0\n",
      "<class 'numpy.int64'>\n",
      "1/1 [==============================] - 0s 31ms/step\n",
      "0\n",
      "<class 'numpy.int64'>\n",
      "1/1 [==============================] - 0s 32ms/step\n",
      "0\n",
      "<class 'numpy.int64'>\n",
      "1/1 [==============================] - 0s 40ms/step\n",
      "0\n",
      "<class 'numpy.int64'>\n",
      "1/1 [==============================] - 0s 39ms/step\n",
      "0\n",
      "<class 'numpy.int64'>\n",
      "1/1 [==============================] - 0s 44ms/step\n",
      "0\n",
      "<class 'numpy.int64'>\n",
      "1/1 [==============================] - 0s 71ms/step\n",
      "0\n",
      "<class 'numpy.int64'>\n",
      "1/1 [==============================] - 0s 60ms/step\n",
      "0\n",
      "<class 'numpy.int64'>\n",
      "1/1 [==============================] - 0s 53ms/step\n",
      "0\n",
      "<class 'numpy.int64'>\n",
      "1/1 [==============================] - 0s 34ms/step\n",
      "0\n",
      "<class 'numpy.int64'>\n",
      "1/1 [==============================] - 0s 32ms/step\n",
      "0\n",
      "<class 'numpy.int64'>\n",
      "1/1 [==============================] - 0s 46ms/step\n",
      "0\n",
      "<class 'numpy.int64'>\n",
      "1/1 [==============================] - 0s 47ms/step\n",
      "0\n",
      "<class 'numpy.int64'>\n",
      "1/1 [==============================] - 0s 48ms/step\n",
      "0\n",
      "<class 'numpy.int64'>\n",
      "1/1 [==============================] - 0s 46ms/step\n",
      "0\n",
      "<class 'numpy.int64'>\n",
      "1/1 [==============================] - 0s 42ms/step\n",
      "0\n",
      "<class 'numpy.int64'>\n",
      "1/1 [==============================] - 0s 44ms/step\n",
      "0\n",
      "<class 'numpy.int64'>\n",
      "1/1 [==============================] - 0s 68ms/step\n",
      "0\n",
      "<class 'numpy.int64'>\n",
      "1/1 [==============================] - 0s 42ms/step\n",
      "0\n",
      "<class 'numpy.int64'>\n",
      "1/1 [==============================] - 0s 48ms/step\n",
      "0\n",
      "<class 'numpy.int64'>\n",
      "1/1 [==============================] - 0s 52ms/step\n",
      "0\n",
      "<class 'numpy.int64'>\n",
      "1/1 [==============================] - 0s 47ms/step\n",
      "0\n",
      "<class 'numpy.int64'>\n",
      "1/1 [==============================] - 0s 52ms/step\n",
      "0\n",
      "<class 'numpy.int64'>\n",
      "1/1 [==============================] - 0s 51ms/step\n",
      "0\n",
      "<class 'numpy.int64'>\n",
      "1/1 [==============================] - 0s 45ms/step\n",
      "0\n",
      "<class 'numpy.int64'>\n",
      "1/1 [==============================] - 0s 35ms/step\n",
      "0\n",
      "<class 'numpy.int64'>\n",
      "1/1 [==============================] - 0s 50ms/step\n",
      "0\n",
      "<class 'numpy.int64'>\n",
      "1/1 [==============================] - 0s 45ms/step\n",
      "0\n",
      "<class 'numpy.int64'>\n",
      "1/1 [==============================] - 0s 53ms/step\n",
      "0\n",
      "<class 'numpy.int64'>\n",
      "1/1 [==============================] - 0s 39ms/step\n",
      "0\n",
      "<class 'numpy.int64'>\n",
      "1/1 [==============================] - 0s 46ms/step\n",
      "0\n",
      "<class 'numpy.int64'>\n"
     ]
    },
    {
     "name": "stdout",
     "output_type": "stream",
     "text": [
      "1/1 [==============================] - 0s 47ms/step\n",
      "0\n",
      "<class 'numpy.int64'>\n",
      "1/1 [==============================] - 0s 49ms/step\n",
      "0\n",
      "<class 'numpy.int64'>\n",
      "1/1 [==============================] - 0s 35ms/step\n",
      "0\n",
      "<class 'numpy.int64'>\n",
      "1/1 [==============================] - 0s 44ms/step\n",
      "0\n",
      "<class 'numpy.int64'>\n",
      "1/1 [==============================] - 0s 43ms/step\n",
      "0\n",
      "<class 'numpy.int64'>\n",
      "1/1 [==============================] - 0s 65ms/step\n",
      "0\n",
      "<class 'numpy.int64'>\n",
      "1/1 [==============================] - 0s 56ms/step\n",
      "0\n",
      "<class 'numpy.int64'>\n",
      "1/1 [==============================] - 0s 31ms/step\n",
      "0\n",
      "<class 'numpy.int64'>\n",
      "1/1 [==============================] - 0s 33ms/step\n",
      "0\n",
      "<class 'numpy.int64'>\n",
      "1/1 [==============================] - 0s 34ms/step\n",
      "0\n",
      "<class 'numpy.int64'>\n",
      "1/1 [==============================] - 0s 34ms/step\n",
      "0\n",
      "<class 'numpy.int64'>\n",
      "1/1 [==============================] - 0s 49ms/step\n",
      "0\n",
      "<class 'numpy.int64'>\n",
      "1/1 [==============================] - 0s 43ms/step\n",
      "0\n",
      "<class 'numpy.int64'>\n",
      "1/1 [==============================] - 0s 31ms/step\n",
      "0\n",
      "<class 'numpy.int64'>\n",
      "1/1 [==============================] - 0s 49ms/step\n",
      "0\n",
      "<class 'numpy.int64'>\n",
      "1/1 [==============================] - 0s 69ms/step\n",
      "0\n",
      "<class 'numpy.int64'>\n",
      "1/1 [==============================] - 0s 64ms/step\n",
      "0\n",
      "<class 'numpy.int64'>\n",
      "1/1 [==============================] - 0s 55ms/step\n",
      "0\n",
      "<class 'numpy.int64'>\n",
      "1/1 [==============================] - 0s 53ms/step\n",
      "0\n",
      "<class 'numpy.int64'>\n",
      "1/1 [==============================] - 0s 37ms/step\n",
      "0\n",
      "<class 'numpy.int64'>\n",
      "1/1 [==============================] - 0s 55ms/step\n",
      "0\n",
      "<class 'numpy.int64'>\n",
      "1/1 [==============================] - 0s 33ms/step\n",
      "0\n",
      "<class 'numpy.int64'>\n",
      "1/1 [==============================] - 0s 51ms/step\n",
      "0\n",
      "<class 'numpy.int64'>\n",
      "1/1 [==============================] - 0s 53ms/step\n",
      "0\n",
      "<class 'numpy.int64'>\n",
      "1/1 [==============================] - 0s 35ms/step\n",
      "0\n",
      "<class 'numpy.int64'>\n",
      "1/1 [==============================] - 0s 39ms/step\n",
      "0\n",
      "<class 'numpy.int64'>\n",
      "1/1 [==============================] - 0s 65ms/step\n",
      "0\n",
      "<class 'numpy.int64'>\n",
      "1/1 [==============================] - 0s 32ms/step\n",
      "0\n",
      "<class 'numpy.int64'>\n",
      "1/1 [==============================] - 0s 38ms/step\n",
      "0\n",
      "<class 'numpy.int64'>\n",
      "1/1 [==============================] - 0s 39ms/step\n",
      "0\n",
      "<class 'numpy.int64'>\n",
      "1/1 [==============================] - 0s 44ms/step\n",
      "0\n",
      "<class 'numpy.int64'>\n",
      "1/1 [==============================] - 0s 49ms/step\n",
      "0\n",
      "<class 'numpy.int64'>\n",
      "1/1 [==============================] - 0s 42ms/step\n",
      "0\n",
      "<class 'numpy.int64'>\n",
      "1/1 [==============================] - 0s 78ms/step\n",
      "0\n",
      "<class 'numpy.int64'>\n",
      "1/1 [==============================] - 0s 56ms/step\n",
      "0\n",
      "<class 'numpy.int64'>\n",
      "1/1 [==============================] - 0s 50ms/step\n",
      "0\n",
      "<class 'numpy.int64'>\n",
      "1/1 [==============================] - 0s 59ms/step\n",
      "0\n",
      "<class 'numpy.int64'>\n",
      "1/1 [==============================] - 0s 48ms/step\n",
      "0\n",
      "<class 'numpy.int64'>\n",
      "1/1 [==============================] - 0s 50ms/step\n",
      "0\n",
      "<class 'numpy.int64'>\n",
      "1/1 [==============================] - 0s 52ms/step\n",
      "0\n",
      "<class 'numpy.int64'>\n",
      "1/1 [==============================] - 0s 37ms/step\n",
      "0\n",
      "<class 'numpy.int64'>\n",
      "1/1 [==============================] - 0s 40ms/step\n",
      "0\n",
      "<class 'numpy.int64'>\n",
      "1/1 [==============================] - 0s 37ms/step\n",
      "0\n",
      "<class 'numpy.int64'>\n",
      "1/1 [==============================] - 0s 49ms/step\n",
      "0\n",
      "<class 'numpy.int64'>\n",
      "1/1 [==============================] - 0s 34ms/step\n",
      "0\n",
      "<class 'numpy.int64'>\n",
      "1/1 [==============================] - 0s 37ms/step\n",
      "0\n",
      "<class 'numpy.int64'>\n",
      "1/1 [==============================] - 0s 35ms/step\n",
      "0\n",
      "<class 'numpy.int64'>\n",
      "1/1 [==============================] - 0s 30ms/step\n",
      "0\n",
      "<class 'numpy.int64'>\n",
      "1/1 [==============================] - 0s 36ms/step\n",
      "0\n",
      "<class 'numpy.int64'>\n",
      "1/1 [==============================] - 0s 31ms/step\n",
      "0\n",
      "<class 'numpy.int64'>\n",
      "1/1 [==============================] - 0s 31ms/step\n",
      "0\n",
      "<class 'numpy.int64'>\n",
      "1/1 [==============================] - 0s 31ms/step\n",
      "0\n",
      "<class 'numpy.int64'>\n",
      "1/1 [==============================] - 0s 33ms/step\n",
      "0\n",
      "<class 'numpy.int64'>\n",
      "1/1 [==============================] - 0s 33ms/step\n",
      "0\n",
      "<class 'numpy.int64'>\n",
      "1/1 [==============================] - 0s 35ms/step\n",
      "0\n",
      "<class 'numpy.int64'>\n",
      "1/1 [==============================] - 0s 41ms/step\n",
      "0\n",
      "<class 'numpy.int64'>\n",
      "1/1 [==============================] - 0s 37ms/step\n",
      "0\n",
      "<class 'numpy.int64'>\n",
      "1/1 [==============================] - 0s 39ms/step\n",
      "0\n",
      "<class 'numpy.int64'>\n",
      "1/1 [==============================] - 0s 37ms/step\n",
      "0\n",
      "<class 'numpy.int64'>\n",
      "1/1 [==============================] - 0s 51ms/step\n",
      "0\n",
      "<class 'numpy.int64'>\n",
      "1/1 [==============================] - 0s 49ms/step\n",
      "0\n",
      "<class 'numpy.int64'>\n",
      "1/1 [==============================] - 0s 44ms/step\n",
      "0\n",
      "<class 'numpy.int64'>\n",
      "1/1 [==============================] - 0s 31ms/step\n",
      "0\n",
      "<class 'numpy.int64'>\n",
      "1/1 [==============================] - 0s 34ms/step\n",
      "0\n",
      "<class 'numpy.int64'>\n",
      "1/1 [==============================] - 0s 32ms/step\n",
      "0\n",
      "<class 'numpy.int64'>\n",
      "1/1 [==============================] - 0s 31ms/step\n",
      "0\n",
      "<class 'numpy.int64'>\n",
      "1/1 [==============================] - 0s 46ms/step\n",
      "0\n",
      "<class 'numpy.int64'>\n",
      "1/1 [==============================] - 0s 47ms/step\n",
      "0\n",
      "<class 'numpy.int64'>\n",
      "1/1 [==============================] - 0s 31ms/step\n",
      "0\n",
      "<class 'numpy.int64'>\n",
      "1/1 [==============================] - 0s 31ms/step\n",
      "0\n",
      "<class 'numpy.int64'>\n",
      "1/1 [==============================] - 0s 39ms/step\n",
      "0\n",
      "<class 'numpy.int64'>\n",
      "1/1 [==============================] - 0s 37ms/step\n",
      "0\n",
      "<class 'numpy.int64'>\n",
      "1/1 [==============================] - 0s 35ms/step\n",
      "0\n",
      "<class 'numpy.int64'>\n",
      "1/1 [==============================] - 0s 47ms/step\n",
      "0\n",
      "<class 'numpy.int64'>\n",
      "1/1 [==============================] - 0s 39ms/step\n",
      "0\n",
      "<class 'numpy.int64'>\n",
      "1/1 [==============================] - 0s 69ms/step\n",
      "0\n",
      "<class 'numpy.int64'>\n",
      "1/1 [==============================] - 0s 56ms/step\n",
      "0\n",
      "<class 'numpy.int64'>\n",
      "1/1 [==============================] - 0s 116ms/step\n",
      "0\n",
      "<class 'numpy.int64'>\n",
      "1/1 [==============================] - 0s 31ms/step\n",
      "0\n",
      "<class 'numpy.int64'>\n",
      "1/1 [==============================] - 0s 62ms/step\n",
      "0\n",
      "<class 'numpy.int64'>\n",
      "1/1 [==============================] - 0s 48ms/step\n",
      "0\n",
      "<class 'numpy.int64'>\n",
      "1/1 [==============================] - 0s 52ms/step\n",
      "0\n",
      "<class 'numpy.int64'>\n",
      "1/1 [==============================] - 0s 53ms/step\n",
      "0\n",
      "<class 'numpy.int64'>\n",
      "1/1 [==============================] - 0s 51ms/step\n",
      "0\n",
      "<class 'numpy.int64'>\n",
      "1/1 [==============================] - 0s 52ms/step\n",
      "0\n",
      "<class 'numpy.int64'>\n",
      "1/1 [==============================] - 0s 39ms/step\n",
      "0\n",
      "<class 'numpy.int64'>\n",
      "1/1 [==============================] - 0s 52ms/step\n",
      "0\n",
      "<class 'numpy.int64'>\n",
      "1/1 [==============================] - 0s 71ms/step\n",
      "0\n",
      "<class 'numpy.int64'>\n",
      "1/1 [==============================] - 0s 50ms/step\n",
      "0\n",
      "<class 'numpy.int64'>\n",
      "1/1 [==============================] - 0s 56ms/step\n",
      "0\n",
      "<class 'numpy.int64'>\n",
      "1/1 [==============================] - 0s 56ms/step\n",
      "0\n",
      "<class 'numpy.int64'>\n",
      "1/1 [==============================] - 0s 49ms/step\n",
      "0\n",
      "<class 'numpy.int64'>\n",
      "1/1 [==============================] - 0s 50ms/step\n",
      "0\n",
      "<class 'numpy.int64'>\n",
      "1/1 [==============================] - 0s 51ms/step\n",
      "0\n",
      "<class 'numpy.int64'>\n",
      "1/1 [==============================] - 0s 47ms/step\n",
      "0\n",
      "<class 'numpy.int64'>\n",
      "1/1 [==============================] - 0s 49ms/step\n",
      "0\n",
      "<class 'numpy.int64'>\n",
      "1/1 [==============================] - 0s 59ms/step\n",
      "0\n",
      "<class 'numpy.int64'>\n",
      "1/1 [==============================] - 0s 54ms/step\n",
      "0\n",
      "<class 'numpy.int64'>\n",
      "1/1 [==============================] - 0s 57ms/step\n",
      "0\n",
      "<class 'numpy.int64'>\n",
      "1/1 [==============================] - 0s 45ms/step\n",
      "0\n",
      "<class 'numpy.int64'>\n",
      "1/1 [==============================] - 0s 43ms/step\n",
      "0\n",
      "<class 'numpy.int64'>\n",
      "1/1 [==============================] - 0s 37ms/step\n",
      "0\n",
      "<class 'numpy.int64'>\n",
      "1/1 [==============================] - 0s 55ms/step\n",
      "0\n",
      "<class 'numpy.int64'>\n",
      "1/1 [==============================] - 0s 51ms/step\n",
      "0\n",
      "<class 'numpy.int64'>\n",
      "1/1 [==============================] - 0s 54ms/step\n",
      "0\n",
      "<class 'numpy.int64'>\n",
      "1/1 [==============================] - 0s 42ms/step\n",
      "0\n",
      "<class 'numpy.int64'>\n",
      "1/1 [==============================] - 0s 56ms/step\n",
      "0\n",
      "<class 'numpy.int64'>\n",
      "1/1 [==============================] - 0s 45ms/step\n",
      "0\n",
      "<class 'numpy.int64'>\n"
     ]
    },
    {
     "name": "stdout",
     "output_type": "stream",
     "text": [
      "1/1 [==============================] - 0s 55ms/step\n",
      "0\n",
      "<class 'numpy.int64'>\n",
      "1/1 [==============================] - 0s 38ms/step\n",
      "0\n",
      "<class 'numpy.int64'>\n",
      "1/1 [==============================] - 0s 36ms/step\n",
      "0\n",
      "<class 'numpy.int64'>\n",
      "1/1 [==============================] - 0s 62ms/step\n",
      "0\n",
      "<class 'numpy.int64'>\n",
      "1/1 [==============================] - 0s 55ms/step\n",
      "0\n",
      "<class 'numpy.int64'>\n",
      "1/1 [==============================] - 0s 62ms/step\n",
      "0\n",
      "<class 'numpy.int64'>\n",
      "1/1 [==============================] - 0s 65ms/step\n",
      "0\n",
      "<class 'numpy.int64'>\n",
      "1/1 [==============================] - 0s 68ms/step\n",
      "0\n",
      "<class 'numpy.int64'>\n",
      "1/1 [==============================] - 0s 67ms/step\n",
      "0\n",
      "<class 'numpy.int64'>\n",
      "1/1 [==============================] - 0s 42ms/step\n",
      "0\n",
      "<class 'numpy.int64'>\n",
      "1/1 [==============================] - 0s 50ms/step\n",
      "0\n",
      "<class 'numpy.int64'>\n",
      "1/1 [==============================] - 0s 56ms/step\n",
      "0\n",
      "<class 'numpy.int64'>\n",
      "1/1 [==============================] - 0s 62ms/step\n",
      "0\n",
      "<class 'numpy.int64'>\n",
      "1/1 [==============================] - 0s 36ms/step\n",
      "0\n",
      "<class 'numpy.int64'>\n",
      "1/1 [==============================] - 0s 62ms/step\n",
      "0\n",
      "<class 'numpy.int64'>\n",
      "1/1 [==============================] - 0s 68ms/step\n",
      "0\n",
      "<class 'numpy.int64'>\n",
      "1/1 [==============================] - 0s 51ms/step\n",
      "0\n",
      "<class 'numpy.int64'>\n",
      "1/1 [==============================] - 0s 36ms/step\n",
      "0\n",
      "<class 'numpy.int64'>\n",
      "1/1 [==============================] - 0s 51ms/step\n",
      "0\n",
      "<class 'numpy.int64'>\n"
     ]
    },
    {
     "ename": "KeyboardInterrupt",
     "evalue": "",
     "output_type": "error",
     "traceback": [
      "\u001b[1;31m---------------------------------------------------------------------------\u001b[0m",
      "\u001b[1;31mKeyboardInterrupt\u001b[0m                         Traceback (most recent call last)",
      "\u001b[1;32m~\\AppData\\Local\\Temp\\ipykernel_29852\\1317900934.py\u001b[0m in \u001b[0;36m<module>\u001b[1;34m\u001b[0m\n\u001b[0;32m     15\u001b[0m \u001b[0mcntr\u001b[0m\u001b[1;33m=\u001b[0m\u001b[1;36m0\u001b[0m\u001b[1;33m\u001b[0m\u001b[1;33m\u001b[0m\u001b[0m\n\u001b[0;32m     16\u001b[0m \u001b[1;32mwhile\u001b[0m \u001b[1;32mTrue\u001b[0m\u001b[1;33m:\u001b[0m\u001b[1;33m\u001b[0m\u001b[1;33m\u001b[0m\u001b[0m\n\u001b[1;32m---> 17\u001b[1;33m     \u001b[0mret\u001b[0m\u001b[1;33m,\u001b[0m\u001b[0mframe\u001b[0m\u001b[1;33m=\u001b[0m\u001b[0mcap\u001b[0m\u001b[1;33m.\u001b[0m\u001b[0mread\u001b[0m\u001b[1;33m(\u001b[0m\u001b[1;33m)\u001b[0m\u001b[1;33m\u001b[0m\u001b[1;33m\u001b[0m\u001b[0m\n\u001b[0m\u001b[0;32m     18\u001b[0m     \u001b[0mcntr\u001b[0m\u001b[1;33m=\u001b[0m\u001b[0mcntr\u001b[0m\u001b[1;33m+\u001b[0m\u001b[1;36m1\u001b[0m\u001b[1;33m\u001b[0m\u001b[1;33m\u001b[0m\u001b[0m\n\u001b[0;32m     19\u001b[0m     \u001b[1;32mif\u001b[0m\u001b[1;33m(\u001b[0m\u001b[1;33m(\u001b[0m\u001b[0mcntr\u001b[0m\u001b[1;33m%\u001b[0m\u001b[1;36m2\u001b[0m\u001b[1;33m)\u001b[0m\u001b[1;33m==\u001b[0m\u001b[1;36m0\u001b[0m\u001b[1;33m)\u001b[0m\u001b[1;33m:\u001b[0m\u001b[1;33m\u001b[0m\u001b[1;33m\u001b[0m\u001b[0m\n",
      "\u001b[1;31mKeyboardInterrupt\u001b[0m: "
     ]
    }
   ],
   "source": [
    "import numpy as np\n",
    "font_scale=1.5\n",
    "font=cv2.FONT_HERSHEY_PLAIN\n",
    "cap=cv2.VideoCapture(\"2022-11-29 01-11-54.mkv\")\n",
    "if not cap.isOpened():\n",
    "    cap=cv2.VideoCapture(0)\n",
    "if not cap.isOpened():\n",
    "    raise IOError(\"Cannot open webcam\")\n",
    "    \n",
    "text=\"Some text in a box\"\n",
    "(text_width, text_height)=cv2.getTextSize(text,font,fontScale=font_scale,thickness=1)[0]\n",
    "text_offset_x=10\n",
    "text_offset_y=img.shape[0]-25\n",
    "box_coords=((text_offset_x,text_offset_y),(text_offset_x+ text_width+2,text_offset_y-text_height-2))\n",
    "cntr=0\n",
    "while True:\n",
    "    ret,frame=cap.read()\n",
    "    cntr=cntr+1\n",
    "    if((cntr%2)==0):\n",
    "        gray=cv2.cvtColor(frame,cv2.COLOR_BGR2GRAY)\n",
    "        resized=cv2.resize(gray,(28,28),interpolation=cv2.INTER_AREA)\n",
    "        newing=tf.keras.utils.normalize(resized,axis=1)\n",
    "        newing=np.array(newing).reshape(-1,IMG_SIZE,IMG_SIZE,1)\n",
    "        predicions=model.predict(newing)\n",
    "        status=np.argmax(predicions)\n",
    "        print(status)\n",
    "        print(type(status))\n",
    "        x1,y1,w1,h1=0,0,175,75\n",
    "        cv2.rectangle(frame,(x1,x1),(x1+w1,y1+h1),(0,0,0),-1)\n",
    "        cv2.putText(frame,status.astype(str),(x1+ int(w1/5),y1 + int(h1/2)),cv2.FONT_HERSHEY_SIMPLEX,0.7,(0,0,225),2)\n",
    "        cv2.imshow('handwritten digits recognition tutorial',frame)\n",
    "        if cv2.waitKey(2) & 0xFF==ord('q'):\n",
    "          break\n",
    "cap.release()\n",
    "cv2.destryAllWindows()"
   ]
  },
  {
   "cell_type": "code",
   "execution_count": null,
   "id": "b4df5ea2",
   "metadata": {},
   "outputs": [],
   "source": []
  }
 ],
 "metadata": {
  "kernelspec": {
   "display_name": "Python 3 (ipykernel)",
   "language": "python",
   "name": "python3"
  },
  "language_info": {
   "codemirror_mode": {
    "name": "ipython",
    "version": 3
   },
   "file_extension": ".py",
   "mimetype": "text/x-python",
   "name": "python",
   "nbconvert_exporter": "python",
   "pygments_lexer": "ipython3",
   "version": "3.9.13"
  }
 },
 "nbformat": 4,
 "nbformat_minor": 5
}
